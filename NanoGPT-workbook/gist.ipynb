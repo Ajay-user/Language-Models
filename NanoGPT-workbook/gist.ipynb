{
 "cells": [
  {
   "attachments": {},
   "cell_type": "markdown",
   "metadata": {},
   "source": [
    "## Modeling Natural Language\n",
    "\n",
    "#### Word2vec --> map words to vectors\n",
    "\n",
    "<img src='./Notes/1 vectors in ndim space.webp'>"
   ]
  },
  {
   "attachments": {},
   "cell_type": "markdown",
   "metadata": {},
   "source": [
    "When modeling natural language, we treat words as continuous vectors in the N-dimensional space.\n",
    "\n",
    "**Learning word vectors**\n",
    "\n",
    "We can learn word vectors in two ways\n",
    "\n",
    "* Supervised learning \n",
    "   * → learn word vectors by training on a supervised task\n",
    "   * → Here we need labeled data and getting data labeled is both time intensive and cost intensive.\n",
    "\n",
    "<br>\n",
    "\n",
    "* Unsupervised learning \n",
    "   * → We like to learn word vectors from the text corpus itself instead of requiring a human to label them first and then learning the word vectors by training on a supervised task.\n"
   ]
  },
  {
   "attachments": {},
   "cell_type": "markdown",
   "metadata": {},
   "source": [
    "### Good word vectors are word vectors for which using those vectors we’re capable of predicting the words that might be surrounding a given word.\n",
    "\n",
    "<img src='./Notes/0 word to vec.webp'>"
   ]
  },
  {
   "attachments": {},
   "cell_type": "markdown",
   "metadata": {},
   "source": [
    "#### We want to map each word to a vector in the n-dim space\n",
    "\n",
    "\n",
    "<h1 style='color:lightblue'> \" A little red fluffy <span style='color:red'>dog</span> wanders down the road \"</h1>\n",
    "\n"
   ]
  },
  {
   "attachments": {},
   "cell_type": "markdown",
   "metadata": {},
   "source": [
    "<img src='./Notes/1.1 cbow.webp'>\n",
    "\n",
    "* In CBOW architecture we use the context around the words as input to the model. \n",
    "* We take the word vectors for all the words in the neighborhood of the nth-word “ dog ” . \n",
    "* Then we average the word vectors to get a fixed sized input. **This process in called as bagging.**\n",
    "<br>\n",
    "#### Draw backs of this approach :\n",
    "* Continuous bag of word model doesn’t take into account the word order\n",
    "\n",
    "    * **Here is an another example** : The united states of `______`\n",
    "\n",
    "* What could be the next possible word ?\n",
    "\n",
    "    * **Consider this sequence** : The states united of `______`\n",
    "\n",
    "\n",
    "**another example**\n",
    "* `\"a dog is chasing a man\"` ---- `\"a man is chasing a dog\"`\n"
   ]
  },
  {
   "attachments": {},
   "cell_type": "markdown",
   "metadata": {},
   "source": [
    "<img src='./Notes/1.2 skipgram.webp'>\n",
    "\n",
    "#### In Skip Gram architecture instead of using the context words as input, we use the nth word as input and ask the model to predict the surrounding words in a sequence."
   ]
  },
  {
   "attachments": {},
   "cell_type": "markdown",
   "metadata": {},
   "source": [
    "<img src='./Notes/1.3 cost function.webp'>\n",
    "\n",
    "* If we can optimize this cost-function then it means we have a model that is good at predicting the desired output given the input.\n",
    "* Through this process of optimization we have learned good embedding vectors for the words in our vocabulary"
   ]
  },
  {
   "attachments": {},
   "cell_type": "markdown",
   "metadata": {},
   "source": [
    "## Humans build representations overtime. We use these representation to predict what comes next.\n",
    "\n",
    "\n",
    "<h4 style='color:salmon'>— “john loves dogs and his dogs wags their <span style='color:seagreen'>???????????” —</span></h4>\n",
    "\n",
    "<h4> Guess the next word  </h4>\n",
    "\n",
    "The fact that you were able to guess the next word suggest that you build up a representation and you use that representation to predict the next word.\n"
   ]
  },
  {
   "attachments": {},
   "cell_type": "markdown",
   "metadata": {},
   "source": [
    "### We want to build machine learning models that are capable of taking a given word and make predictions about the surrounding words."
   ]
  },
  {
   "attachments": {},
   "cell_type": "markdown",
   "metadata": {},
   "source": [
    "**The idea behind word vectors**\n",
    "\n",
    "* Every language has many rules inplace when constructing a sentence. \n",
    "* The words in a sentence follow these rules. \n",
    "* This implies that for each word in a given sentence we should be able to predict the presence of surrounding words.\n",
    "\n",
    "\n",
    "\n",
    "\n",
    "\n",
    "## Why is context important ?\n",
    "\n",
    "This concept of mapping each word in a document to a single vector is restrictive, in the sense that words has multiple meaning and the meaning that applies corresponds to the context in which the word is used.\n",
    "\n",
    "\n",
    "For example : Consider the following sentences\n",
    "\n",
    "<h5>“The bank <span style='color:salmon'>appropriated</span> the property of the defaulters”</h5>\n",
    "<h5>“There can be problems in  <span style='color:salmon'>appropriating</span> funds for legal expenses”</h5>\n",
    "<h5>\"Teaching  <span style='color:salmon'>appropriate</span>  Behavior in the work place”</h5>\n",
    "\n",
    "\n",
    "<br>\n",
    "<br>\n",
    "<br>\n",
    "\n",
    "\n",
    "* By Associating a word to a fixed embedding we cannot handle cases where words have multiple meanings. \n",
    "\n",
    "**Suppose we are encoding the word “ `bank` ”.** \n",
    "\n",
    "\n",
    "The context independent encoding will map the word “ `bank` ” in the sentence `“On the river bank”` and `“Open an account in the bank”` to the same embedding vector. \n",
    "\n",
    "Ideally we want the word embedding to be more contextualized to reflect the surrounding words around them. \n",
    "\n",
    "\n",
    "So that the word “ `bank` ” in the sentence `“On the river bank”` will be mapped different from the word “ `bank` ” in the sentence word `“Open an account in the bank”`\n",
    "\n",
    "<img src='./Notes/1.4 context is important.webp'>\n",
    "\n",
    "<br>\n",
    "<br>\n",
    "<br>\n",
    "\n",
    "\n",
    "\n",
    "\n",
    "\n",
    "\n",
    "**The underlying components of the word vector have some thematic meaning.**\n",
    "\n",
    "<img src='./Notes/2 components of word vector.webp'>\n",
    "\n",
    "\n",
    "\n",
    "\n"
   ]
  },
  {
   "attachments": {},
   "cell_type": "markdown",
   "metadata": {},
   "source": [
    "### If we can learn these word vectors by taking the context into account\n",
    "\n",
    "<img src='./Notes/3 properties of word embedding.webp'>"
   ]
  },
  {
   "attachments": {},
   "cell_type": "markdown",
   "metadata": {},
   "source": [
    "#### For example words like ‘king’ and ‘queen’. By taking these word vectors, we can look for what is similar between them, what is different, etc… and from that we can uncover some underlying information associated with these word vectors.\n",
    "\n",
    "\n",
    "<img src='./Notes/4 topics in components.webp'>"
   ]
  },
  {
   "attachments": {},
   "cell_type": "markdown",
   "metadata": {},
   "source": [
    "#### What we would like to do now is to develop a framework by which we can learn these word vectors in a way that takes into account the meaning implied by the surrounding words [ contextual information ] and the word order.\n",
    "\n",
    "#### Meaning \n",
    "* Similar words should be close in the embedding space\n",
    "\n",
    "\n",
    "\n",
    "#### Context\n",
    "* Word's have different meaning depending on the context in which its used\n",
    "\n",
    "\n",
    "\n",
    "#### Word order\n",
    "* Word order is important because there are rules that dictate how words unfold in a sentence\n",
    "* `\"a dog is chasing a man\"` ---- `\"a man is chasing a dog\"`\n",
    "* When word order changes, meaning of the sentence changes\n"
   ]
  },
  {
   "attachments": {},
   "cell_type": "markdown",
   "metadata": {},
   "source": [
    "## ATTENTION IS ALL YOU NEEDED\n",
    "\n",
    "\n",
    "* **Quantifying the similarity between words**\n",
    "   * We can use dot product (inner product) to quantify the similarity between words\n",
    "   * The components of word vectors are composed of different themes.\n",
    "   * If the word aligns with the theme then the corresponding component will be a positive number.\n",
    "   * If the word doesn’t aligns with the theme then the corresponding component will be a negative number.\n",
    "   * The dot product between two word vectors give us similarity between two words\n",
    "\n",
    "<img src='./Notes/5 dotproduct for similarity.webp'>\n",
    "<br>\n",
    "<br>\n",
    "\n",
    "\n",
    "* **Relative similarity score**\n",
    "\n",
    "   * Relative similarity R(k →i) implies how similar is the kth word to the ith word, relative to all other words in the sequence.\n",
    "   * **Quantifying how similar is the `word(i)` to `word(k)`**\n",
    "<br>\n",
    "<br>\n",
    "<img src='./Notes/5.1 softmax.webp'>\n",
    "\n",
    "\n",
    "#### The relative similarity score is a mathematical way of quantifying the relationship between words and those relationships between words are characteristic of language itself. These relationship dictates how words unfold in a sentence.\n",
    "\n",
    "\n",
    "<img src='./Notes/6 attention mechanism.webp'>\n",
    "\n",
    "#### The word vectors we started with was not informed of the context in which it was used. By computing the relative similarity score, we now have the information about how much attention we should pay to the surrounding words. "
   ]
  },
  {
   "attachments": {},
   "cell_type": "markdown",
   "metadata": {},
   "source": [
    "## Self ATTENTION | context awareness\n",
    "\n",
    "\n",
    "#### The words have different meaning depending on the context in which its used. So mapping word to a single vector is restrictive in the sense that it implies only one kind of meaning\n",
    "\n",
    "* Example : “On the river bank they sit” , “The bank control the interest rate”\n",
    "\n",
    "\n",
    "\n",
    "<img src='./Notes/7 attention block diagram.webp'>\n",
    "\n",
    "\n",
    "<h2 style='color:lightblue'>\n",
    "Self attention helps encoding word to vectors by taking contextual information into account</h2>\n",
    "<h2 style='color:salmon'>\n",
    "Self attention does not takes into account word order\n",
    "</h2>\n",
    "\n",
    "\n",
    "**When word order changes, the meaning changes. The attention mechanism will give us word vectors they are independent of word order. Changing the word order doesn’t change the word encoding produced by the attention mechanism.**"
   ]
  },
  {
   "attachments": {},
   "cell_type": "markdown",
   "metadata": {},
   "source": [
    "## Positional Embedding\n",
    "\n",
    "The word vectors are d-dimensional vectors. We want to incorporate the positional information into these word vectors. The positional embedding are d-dimensional vectors that reflect the position of the word in a sequence. For every component in this vector we are going to associate a sine/cosine wave of different frequency.\n",
    "\n",
    "\n",
    "\n",
    "$$Positional \\: Embedding$$\n",
    "\n",
    "$$ PE_{(position, 2i)} = \\sin({\\frac{positions}{10000^{\\frac{2i}{dims}}}})$$\n",
    "$$ PE_{(position, 2i+1)} = \\cos({\\frac{positions}{10000^{\\frac{2i}{dims}}}})$$\n",
    "\n",
    "\n",
    "<img src='./Notes/7.1 positional embeddings.webp'>\n",
    "\n",
    "\n",
    "\n",
    "## Skip connection\n",
    "\n",
    "We want to preserve the meaning of the word, the word embedding and account for the contextual information. When we go from input at the bottom to output at the top, we are losing the original word embedding. The skip connection help us preserve the original embedding. \n",
    "\n",
    "Skip connection also help us prevent vanishing gradient problem\n",
    "\n",
    "\n",
    "\n",
    "## Improved ATTENTION \n",
    "\n",
    "<img src='./Notes/8 meaning word-order and context.webp'>"
   ]
  },
  {
   "attachments": {},
   "cell_type": "markdown",
   "metadata": {},
   "source": [
    "## Deep Sequence Encoder\n",
    "\n",
    "#### The sequence encoder is a stack of different layers. In the bottom we have word embedding layer and positional embedding. The next set of layers are Attention network and FFNN with skip connection in between. This set of layers can be repeated ‘K’ times to form a deep sequence encoder, which will improve the performance of the network.\n",
    "\n",
    "\n",
    "<img src='./Notes/9 Deep sequence encoder.webp'>"
   ]
  }
 ],
 "metadata": {
  "language_info": {
   "name": "python"
  },
  "orig_nbformat": 4
 },
 "nbformat": 4,
 "nbformat_minor": 2
}
