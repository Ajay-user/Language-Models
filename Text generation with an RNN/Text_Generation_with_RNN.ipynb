{
  "nbformat": 4,
  "nbformat_minor": 0,
  "metadata": {
    "colab": {
      "provenance": [],
      "authorship_tag": "ABX9TyPOI8V/JmDcFszNvNE6GpP/",
      "include_colab_link": true
    },
    "kernelspec": {
      "name": "python3",
      "display_name": "Python 3"
    },
    "language_info": {
      "name": "python"
    },
    "accelerator": "GPU",
    "gpuClass": "standard"
  },
  "cells": [
    {
      "cell_type": "markdown",
      "metadata": {
        "id": "view-in-github",
        "colab_type": "text"
      },
      "source": [
        "<a href=\"https://colab.research.google.com/github/Ajay-user/Language-Models/blob/main/Text%20generation%20with%20an%20RNN/Text_Generation_with_RNN.ipynb\" target=\"_parent\"><img src=\"https://colab.research.google.com/assets/colab-badge.svg\" alt=\"Open In Colab\"/></a>"
      ]
    },
    {
      "cell_type": "markdown",
      "source": [
        "## The prediction task 💻💻 \n",
        "\n",
        "\n",
        "Given a character, or a sequence of characters, what is the most probable next character? \n",
        "\n",
        "The input to the model will be a sequence of characters, and we train the model to predict the output—the following character at each time step.\n",
        "\n",
        "Since RNNs maintain an internal state that depends on the previously seen elements, given all the characters computed until this moment, what is the next character?"
      ],
      "metadata": {
        "id": "8bAzFuBkDQ0c"
      }
    },
    {
      "cell_type": "code",
      "execution_count": 35,
      "metadata": {
        "id": "N0ETjrgp5gWR"
      },
      "outputs": [],
      "source": [
        "import tensorflow as tf\n",
        "import pandas as pd\n",
        "import numpy as np\n",
        "import os\n",
        "import time\n",
        "import pathlib\n"
      ]
    },
    {
      "cell_type": "markdown",
      "source": [
        "## Download the Shakespeare dataset 📝"
      ],
      "metadata": {
        "id": "zQdVBJsJ7tIC"
      }
    },
    {
      "cell_type": "code",
      "source": [
        "url ='https://storage.googleapis.com/download.tensorflow.org/data/shakespeare.txt'\n",
        "path_to_file = tf.keras.utils.get_file(origin=url)"
      ],
      "metadata": {
        "colab": {
          "base_uri": "https://localhost:8080/"
        },
        "id": "K62VV1iB7qZd",
        "outputId": "9ed59907-f396-4b5c-f1df-7157062224ef"
      },
      "execution_count": 2,
      "outputs": [
        {
          "output_type": "stream",
          "name": "stdout",
          "text": [
            "Downloading data from https://storage.googleapis.com/download.tensorflow.org/data/shakespeare.txt\n",
            "1115394/1115394 [==============================] - 0s 0us/step\n"
          ]
        }
      ]
    },
    {
      "cell_type": "code",
      "source": [
        "text = pathlib.Path(path_to_file).read_text(encoding='utf-8')"
      ],
      "metadata": {
        "id": "FdwSj8XQ79Mb"
      },
      "execution_count": 3,
      "outputs": []
    },
    {
      "cell_type": "code",
      "source": [
        "print(text[:200])"
      ],
      "metadata": {
        "colab": {
          "base_uri": "https://localhost:8080/"
        },
        "id": "a8NJZIl67-Mp",
        "outputId": "10cb9f00-ae00-4881-ef02-14c9c46db969"
      },
      "execution_count": 4,
      "outputs": [
        {
          "output_type": "stream",
          "name": "stdout",
          "text": [
            "First Citizen:\n",
            "Before we proceed any further, hear me speak.\n",
            "\n",
            "All:\n",
            "Speak, speak.\n",
            "\n",
            "First Citizen:\n",
            "You are all resolved rather to die than to famish?\n",
            "\n",
            "All:\n",
            "Resolved. resolved.\n",
            "\n",
            "First Citizen:\n",
            "First, you\n"
          ]
        }
      ]
    },
    {
      "cell_type": "markdown",
      "source": [
        "### Vocab ✏🖋🖊✒"
      ],
      "metadata": {
        "id": "z3rXKlGV8Xr0"
      }
    },
    {
      "cell_type": "code",
      "source": [
        "vocab = list(set(text))"
      ],
      "metadata": {
        "id": "m6UunTWJ8KZa"
      },
      "execution_count": 5,
      "outputs": []
    },
    {
      "cell_type": "code",
      "source": [
        "print('Length of vocab :',len(vocab))"
      ],
      "metadata": {
        "colab": {
          "base_uri": "https://localhost:8080/"
        },
        "id": "EeaGPInV8qmS",
        "outputId": "1fd85e90-0a7f-482c-f7ce-876f9bc81432"
      },
      "execution_count": 6,
      "outputs": [
        {
          "output_type": "stream",
          "name": "stdout",
          "text": [
            "Length of vocab : 65\n"
          ]
        }
      ]
    },
    {
      "cell_type": "markdown",
      "source": [
        "## ⚙ Process the text ⚙\n",
        "Vectorize the text\n",
        "Before training, you need to convert the strings to a numerical representation.\n",
        "\n",
        "**tf.keras.layers.StringLookup**\n",
        "* This layer will perform no splitting or transformation of input strings. \n",
        "\n",
        "\n"
      ],
      "metadata": {
        "id": "GISYX4Pc85op"
      }
    },
    {
      "cell_type": "code",
      "source": [
        "# how to split the text into chars\n",
        "example = tf.constant('hello')\n",
        "example_chars = tf.strings.unicode_split(input=example, input_encoding='UTF-8')\n",
        "example_chars"
      ],
      "metadata": {
        "colab": {
          "base_uri": "https://localhost:8080/"
        },
        "id": "nfQ8Oxhy8sCi",
        "outputId": "475e523f-8f9d-4bd3-8189-bd06512519f7"
      },
      "execution_count": 7,
      "outputs": [
        {
          "output_type": "execute_result",
          "data": {
            "text/plain": [
              "<tf.Tensor: shape=(5,), dtype=string, numpy=array([b'h', b'e', b'l', b'l', b'o'], dtype=object)>"
            ]
          },
          "metadata": {},
          "execution_count": 7
        }
      ]
    },
    {
      "cell_type": "code",
      "source": [
        "char_to_id = tf.keras.layers.StringLookup(vocabulary=vocab, mask_token=None)\n",
        "# Here instead of passing the original vocabulary generated with sorted(set(text))\n",
        "# use the get_vocabulary() method of the tf.keras.layers.StringLookup layer \n",
        "# so that the [UNK] tokens is set the same way.\n",
        "id_to_char = tf.keras.layers.StringLookup(vocabulary=char_to_id.get_vocabulary(), mask_token=None, invert=True)\n",
        "id_to_text = lambda ids: tf.strings.reduce_join(inputs=id_to_char(ids), axis=-1, separator='')"
      ],
      "metadata": {
        "id": "qwh-4Nqd-uR3"
      },
      "execution_count": 8,
      "outputs": []
    },
    {
      "cell_type": "code",
      "source": [
        "example_ids = char_to_id(example_chars)\n",
        "example_ids"
      ],
      "metadata": {
        "colab": {
          "base_uri": "https://localhost:8080/"
        },
        "id": "XNZ1RKgI_oPG",
        "outputId": "6e67a3ec-1253-4575-8d8e-6d0560a718ba"
      },
      "execution_count": 9,
      "outputs": [
        {
          "output_type": "execute_result",
          "data": {
            "text/plain": [
              "<tf.Tensor: shape=(5,), dtype=int64, numpy=array([ 5, 22, 19, 19,  8])>"
            ]
          },
          "metadata": {},
          "execution_count": 9
        }
      ]
    },
    {
      "cell_type": "code",
      "source": [
        "example_ids_to_char = id_to_char(example_ids)\n",
        "example_ids_to_char"
      ],
      "metadata": {
        "colab": {
          "base_uri": "https://localhost:8080/"
        },
        "id": "KP1N4WH1AOUW",
        "outputId": "976ab435-d4e0-4ed1-c877-10d384b4b0f6"
      },
      "execution_count": 10,
      "outputs": [
        {
          "output_type": "execute_result",
          "data": {
            "text/plain": [
              "<tf.Tensor: shape=(5,), dtype=string, numpy=array([b'h', b'e', b'l', b'l', b'o'], dtype=object)>"
            ]
          },
          "metadata": {},
          "execution_count": 10
        }
      ]
    },
    {
      "cell_type": "code",
      "source": [
        "id_to_text(example_ids)"
      ],
      "metadata": {
        "colab": {
          "base_uri": "https://localhost:8080/"
        },
        "id": "eDUOfDVGAhiF",
        "outputId": "b6703d28-200c-47db-8b2f-2837d70c76b0"
      },
      "execution_count": 11,
      "outputs": [
        {
          "output_type": "execute_result",
          "data": {
            "text/plain": [
              "<tf.Tensor: shape=(), dtype=string, numpy=b'hello'>"
            ]
          },
          "metadata": {},
          "execution_count": 11
        }
      ]
    },
    {
      "cell_type": "markdown",
      "source": [
        "## Create training examples and targets 💿"
      ],
      "metadata": {
        "id": "S77MRLu6DlPJ"
      }
    },
    {
      "cell_type": "code",
      "source": [
        "text_chars = tf.strings.unicode_split(input=text, input_encoding='UTF-8')\n",
        "text_ids = char_to_id(text_chars)"
      ],
      "metadata": {
        "id": "pNV2dkb2BHS1"
      },
      "execution_count": 12,
      "outputs": []
    },
    {
      "cell_type": "code",
      "source": [
        "text_ds = tf.data.Dataset.from_tensor_slices(text_ids)\n",
        "# The batch method lets you easily convert these individual characters to sequences of the desired size\n",
        "seq_length = 100\n",
        "text_ds = text_ds.batch(seq_length+1, drop_remainder=True)"
      ],
      "metadata": {
        "id": "dVStIFAtEXQJ"
      },
      "execution_count": 13,
      "outputs": []
    },
    {
      "cell_type": "markdown",
      "source": [
        "For training you'll need a dataset of (input, label) pairs. Where input and label are sequences. At each time step the input is the current character and the label is the next character.\n"
      ],
      "metadata": {
        "id": "s33IaC8WFFLX"
      }
    },
    {
      "cell_type": "code",
      "source": [
        "def get_input_and_target(txt):\n",
        "  inputs = txt[:-1]\n",
        "  labels = txt[1:]\n",
        "  return inputs, labels"
      ],
      "metadata": {
        "id": "-JZjSWedEqBx"
      },
      "execution_count": 14,
      "outputs": []
    },
    {
      "cell_type": "code",
      "source": [
        "text_ds = text_ds.map(get_input_and_target)"
      ],
      "metadata": {
        "id": "5P2kH3UWFaCX"
      },
      "execution_count": 15,
      "outputs": []
    },
    {
      "cell_type": "code",
      "source": [
        "# lets check the data\n",
        "inputs, labels = next(iter(text_ds))"
      ],
      "metadata": {
        "id": "q7VI4WbdFe-P"
      },
      "execution_count": 16,
      "outputs": []
    },
    {
      "cell_type": "code",
      "source": [
        "inputs"
      ],
      "metadata": {
        "colab": {
          "base_uri": "https://localhost:8080/"
        },
        "id": "JoFrc6lsIZ5V",
        "outputId": "40bca99d-55e6-4c84-afd1-2bfcfa422b4e"
      },
      "execution_count": 17,
      "outputs": [
        {
          "output_type": "execute_result",
          "data": {
            "text/plain": [
              "<tf.Tensor: shape=(100,), dtype=int64, numpy=\n",
              "array([39, 37, 35, 28, 52, 41, 53, 37, 52, 37, 11, 22, 44, 54, 27, 59, 22,\n",
              "       12,  8, 35, 22, 41, 51, 22, 41,  2, 35,  8, 45, 22, 22, 62, 41, 33,\n",
              "       44, 43, 41, 12, 65, 35, 52,  5, 22, 35,  1, 41,  5, 22, 33, 35, 41,\n",
              "       60, 22, 41, 28,  2, 22, 33, 13, 55, 27, 27, 50, 19, 19, 54, 27, 17,\n",
              "        2, 22, 33, 13,  1, 41, 28,  2, 22, 33, 13, 55, 27, 27, 39, 37, 35,\n",
              "       28, 52, 41, 53, 37, 52, 37, 11, 22, 44, 54, 27,  4,  8, 65])>"
            ]
          },
          "metadata": {},
          "execution_count": 17
        }
      ]
    },
    {
      "cell_type": "code",
      "source": [
        "print(id_to_text(inputs).numpy().decode('UTF-8'))"
      ],
      "metadata": {
        "colab": {
          "base_uri": "https://localhost:8080/"
        },
        "id": "mXWIshsFFsFn",
        "outputId": "cb5723da-1bbd-4d6f-a659-688166e76696"
      },
      "execution_count": 18,
      "outputs": [
        {
          "output_type": "stream",
          "name": "stdout",
          "text": [
            "First Citizen:\n",
            "Before we proceed any further, hear me speak.\n",
            "\n",
            "All:\n",
            "Speak, speak.\n",
            "\n",
            "First Citizen:\n",
            "You\n"
          ]
        }
      ]
    },
    {
      "cell_type": "code",
      "source": [
        "print(id_to_text(labels).numpy().decode('UTF-8'))"
      ],
      "metadata": {
        "colab": {
          "base_uri": "https://localhost:8080/"
        },
        "id": "0u0TyNnLItnc",
        "outputId": "9f7cd6be-1e62-46b1-95bc-b1787da20b3f"
      },
      "execution_count": 19,
      "outputs": [
        {
          "output_type": "stream",
          "name": "stdout",
          "text": [
            "irst Citizen:\n",
            "Before we proceed any further, hear me speak.\n",
            "\n",
            "All:\n",
            "Speak, speak.\n",
            "\n",
            "First Citizen:\n",
            "You \n"
          ]
        }
      ]
    },
    {
      "cell_type": "markdown",
      "source": [
        "## Create training batches 🚟\n",
        "\n",
        "Before feeding this data into the model, you need to shuffle the data and pack it into batches.\n"
      ],
      "metadata": {
        "id": "qNjPthRGIL3k"
      }
    },
    {
      "cell_type": "code",
      "source": [
        "# Batch size\n",
        "BATCH_SIZE = 64\n",
        "BUFFER_SIZE = 10000\n",
        "\n",
        "dataset = text_ds.shuffle(BUFFER_SIZE).batch(BATCH_SIZE).cache().prefetch(tf.data.AUTOTUNE)"
      ],
      "metadata": {
        "id": "T0S5rkvNFsDX"
      },
      "execution_count": 20,
      "outputs": []
    },
    {
      "cell_type": "markdown",
      "source": [
        "## Model 🤖"
      ],
      "metadata": {
        "id": "PslmzHLaKLQK"
      }
    },
    {
      "cell_type": "code",
      "source": [
        "# The embedding dimension\n",
        "embedding_dim = 256\n",
        "\n",
        "# Number of RNN units\n",
        "rnn_units = 1024\n",
        "\n",
        "# Length of the vocabulary in StringLookup Layer\n",
        "VOCAB_SIZE = char_to_id.vocabulary_size()"
      ],
      "metadata": {
        "id": "u2YdOd-QFoGn"
      },
      "execution_count": 21,
      "outputs": []
    },
    {
      "cell_type": "code",
      "source": [
        "class CharModel(tf.keras.Model):\n",
        "  def __init__(self, embedding_dim, rnn_units, vocab_size):\n",
        "    super().__init__(self)\n",
        "    self.embedding = tf.keras.layers.Embedding(input_dim=vocab_size, output_dim=embedding_dim)\n",
        "    self.GRU = tf.keras.layers.GRU(units=rnn_units, return_state=True, return_sequences=True)\n",
        "    self.dense = tf.keras.layers.Dense(units=vocab_size)\n",
        "\n",
        "  def call(self, inputs, state=None, training=False, return_state=False):\n",
        "    \n",
        "    # get the embedding [batch, seq] --> [batch, seq, dims]\n",
        "    vectors = self.embedding(inputs, training=training)\n",
        "    \n",
        "    # pass the vectors to rnn\n",
        "    if state==None:\n",
        "      state = self.GRU.get_initial_state(vectors)\n",
        "    # input [batch seq, dims] --> rnn-out [batch, seq, dims] and state [batch, seq]\n",
        "    rnn_out, rnn_state = self.GRU(vectors, initial_state=state, training=training)\n",
        "    \n",
        "    # dense layer [batch, seq, dims] --> [batch, seq, vocab-size]\n",
        "    dense_out = self.dense(rnn_out, training=training)\n",
        "\n",
        "    if return_state:\n",
        "      return dense_out, rnn_state\n",
        "    else:\n",
        "      return dense_out\n",
        "\n"
      ],
      "metadata": {
        "id": "I5ATzkSPJ3iq"
      },
      "execution_count": 22,
      "outputs": []
    },
    {
      "cell_type": "code",
      "source": [
        "# lets try out the model\n",
        "model = CharModel(embedding_dim=embedding_dim, rnn_units=rnn_units, vocab_size=VOCAB_SIZE)\n",
        "\n",
        "sample_input_batch, sample_label_batch = next(iter(dataset))\n",
        "\n",
        "sample_pred_batch = model(sample_input_batch)"
      ],
      "metadata": {
        "id": "621E068tKeKq"
      },
      "execution_count": 23,
      "outputs": []
    },
    {
      "cell_type": "code",
      "source": [
        "print('Shape of model output',sample_pred_batch.shape)"
      ],
      "metadata": {
        "colab": {
          "base_uri": "https://localhost:8080/"
        },
        "id": "lWkbZiRJOon9",
        "outputId": "4785e38e-6ed8-4c48-a71d-68be21f75a01"
      },
      "execution_count": 24,
      "outputs": [
        {
          "output_type": "stream",
          "name": "stdout",
          "text": [
            "Shape of model output (64, 100, 66)\n"
          ]
        }
      ]
    },
    {
      "cell_type": "markdown",
      "source": [
        "To get actual predictions from the model you need to sample from the output distribution, to get actual character indices. This distribution is defined by the logits over the character vocabulary."
      ],
      "metadata": {
        "id": "_oCoAyNWPzzL"
      }
    },
    {
      "cell_type": "code",
      "source": [
        "sample_logits = sample_pred_batch[0] # shape [100, 66]\n",
        "sample_indices = tf.random.categorical(logits=sample_logits, num_samples=1)\n",
        "sample_indices[:5]"
      ],
      "metadata": {
        "colab": {
          "base_uri": "https://localhost:8080/"
        },
        "id": "UbNuQyWaPa9k",
        "outputId": "701f4994-286f-49f1-f3f8-eeaab4db097c"
      },
      "execution_count": 25,
      "outputs": [
        {
          "output_type": "execute_result",
          "data": {
            "text/plain": [
              "<tf.Tensor: shape=(5, 1), dtype=int64, numpy=\n",
              "array([[53],\n",
              "       [48],\n",
              "       [55],\n",
              "       [26],\n",
              "       [ 4]])>"
            ]
          },
          "metadata": {},
          "execution_count": 25
        }
      ]
    },
    {
      "cell_type": "code",
      "source": [
        "print('Actual :', id_to_text(sample_label_batch[0]).numpy())\n",
        "print('Prediction :', id_to_text(tf.squeeze(sample_indices)).numpy())"
      ],
      "metadata": {
        "colab": {
          "base_uri": "https://localhost:8080/"
        },
        "id": "KjqW0smIQSbb",
        "outputId": "4a1460be-c5fa-4fb8-8c82-47d4c62ceb16"
      },
      "execution_count": 26,
      "outputs": [
        {
          "output_type": "stream",
          "name": "stdout",
          "text": [
            "Actual : b'ty,\\nTurns to the sourest and most deadly hate:\\nAgain uncurse their souls; their peace is made\\nWith h'\n",
            "Prediction : b'C;.IY!mumXDOK-tVg:mr?Gum$ag$Zy;ut\\nzbtt xX3!I3NQo$3aEHsJkaMtoXRCBix&?NsL?LMN.aTVW$\\nwduYmk$ral&bH$m\\n;:'\n"
          ]
        }
      ]
    },
    {
      "cell_type": "markdown",
      "source": [
        "## Train the model 💠\n",
        "At this point the problem can be treated as a standard classification problem. Given the previous RNN state, and the input this time step, predict the class of the next character."
      ],
      "metadata": {
        "id": "MDLacgYpR-vL"
      }
    },
    {
      "cell_type": "code",
      "source": [
        "loss_fn = tf.keras.losses.SparseCategoricalCrossentropy(from_logits=True)\n",
        "\n",
        "loss = loss_fn(y_true= sample_label_batch, y_pred=sample_pred_batch)"
      ],
      "metadata": {
        "id": "VT5aMh1kQp6a"
      },
      "execution_count": 27,
      "outputs": []
    },
    {
      "cell_type": "markdown",
      "source": [
        "A newly initialized model shouldn't be too sure of itself, the output logits should all have similar magnitudes. To confirm this you can check that the exponential of the mean loss is approximately equal to the vocabulary size."
      ],
      "metadata": {
        "id": "jBLhsJrRUtea"
      }
    },
    {
      "cell_type": "code",
      "source": [
        "print(np.exp(loss))"
      ],
      "metadata": {
        "colab": {
          "base_uri": "https://localhost:8080/"
        },
        "id": "NihZeqozUWAH",
        "outputId": "f2189bde-fabd-4353-807e-7566ce5c86cb"
      },
      "execution_count": 28,
      "outputs": [
        {
          "output_type": "stream",
          "name": "stdout",
          "text": [
            "65.87736\n"
          ]
        }
      ]
    },
    {
      "cell_type": "markdown",
      "source": [
        "#### Callbacks 📞"
      ],
      "metadata": {
        "id": "DdX_5aoyVMdV"
      }
    },
    {
      "cell_type": "code",
      "source": [
        "checkpoints = tf.keras.callbacks.ModelCheckpoint(filepath='./checkpoint/model_checkpoint_{epoch}.ckpt', save_weights_only=True)"
      ],
      "metadata": {
        "id": "quC1ZcFwU9el"
      },
      "execution_count": 29,
      "outputs": []
    },
    {
      "cell_type": "code",
      "source": [
        "model.compile(optimizer='adam', loss=loss_fn, metrics=['accuracy'])"
      ],
      "metadata": {
        "id": "9TZe-qAXVrMm"
      },
      "execution_count": 30,
      "outputs": []
    },
    {
      "cell_type": "markdown",
      "source": [
        "#### Training 🚆"
      ],
      "metadata": {
        "id": "OxgH_SSeWYWk"
      }
    },
    {
      "cell_type": "code",
      "source": [
        "history = model.fit(dataset, epochs=20, callbacks=[checkpoints])"
      ],
      "metadata": {
        "colab": {
          "base_uri": "https://localhost:8080/"
        },
        "id": "HMJST0AtWO80",
        "outputId": "29ebd5de-6cb0-4d72-8287-6f801d55f783"
      },
      "execution_count": 31,
      "outputs": [
        {
          "output_type": "stream",
          "name": "stdout",
          "text": [
            "Epoch 1/20\n",
            "173/173 [==============================] - 15s 54ms/step - loss: 2.7212 - accuracy: 0.2767\n",
            "Epoch 2/20\n",
            "173/173 [==============================] - 9s 50ms/step - loss: 1.9929 - accuracy: 0.4173\n",
            "Epoch 3/20\n",
            "173/173 [==============================] - 9s 50ms/step - loss: 1.7113 - accuracy: 0.4924\n",
            "Epoch 4/20\n",
            "173/173 [==============================] - 9s 50ms/step - loss: 1.5495 - accuracy: 0.5352\n",
            "Epoch 5/20\n",
            "173/173 [==============================] - 9s 50ms/step - loss: 1.4500 - accuracy: 0.5610\n",
            "Epoch 6/20\n",
            "173/173 [==============================] - 9s 51ms/step - loss: 1.3814 - accuracy: 0.5781\n",
            "Epoch 7/20\n",
            "173/173 [==============================] - 9s 51ms/step - loss: 1.3281 - accuracy: 0.5915\n",
            "Epoch 8/20\n",
            "173/173 [==============================] - 9s 52ms/step - loss: 1.2827 - accuracy: 0.6029\n",
            "Epoch 9/20\n",
            "173/173 [==============================] - 9s 52ms/step - loss: 1.2408 - accuracy: 0.6139\n",
            "Epoch 10/20\n",
            "173/173 [==============================] - 9s 53ms/step - loss: 1.1999 - accuracy: 0.6252\n",
            "Epoch 11/20\n",
            "173/173 [==============================] - 9s 55ms/step - loss: 1.1589 - accuracy: 0.6371\n",
            "Epoch 12/20\n",
            "173/173 [==============================] - 10s 55ms/step - loss: 1.1186 - accuracy: 0.6487\n",
            "Epoch 13/20\n",
            "173/173 [==============================] - 10s 56ms/step - loss: 1.0757 - accuracy: 0.6615\n",
            "Epoch 14/20\n",
            "173/173 [==============================] - 10s 56ms/step - loss: 1.0339 - accuracy: 0.6741\n",
            "Epoch 15/20\n",
            "173/173 [==============================] - 10s 56ms/step - loss: 1.0019 - accuracy: 0.6834\n",
            "Epoch 16/20\n",
            "173/173 [==============================] - 10s 55ms/step - loss: 0.9752 - accuracy: 0.6911\n",
            "Epoch 17/20\n",
            "173/173 [==============================] - 10s 55ms/step - loss: 0.9482 - accuracy: 0.6987\n",
            "Epoch 18/20\n",
            "173/173 [==============================] - 9s 55ms/step - loss: 0.9212 - accuracy: 0.7068\n",
            "Epoch 19/20\n",
            "173/173 [==============================] - 9s 55ms/step - loss: 0.8903 - accuracy: 0.7159\n",
            "Epoch 20/20\n",
            "173/173 [==============================] - 10s 55ms/step - loss: 0.8665 - accuracy: 0.7226\n"
          ]
        }
      ]
    },
    {
      "cell_type": "code",
      "source": [
        "history_df = pd.DataFrame(data=history.history)"
      ],
      "metadata": {
        "id": "u-amYOC8Wi_z"
      },
      "execution_count": 36,
      "outputs": []
    },
    {
      "cell_type": "code",
      "source": [
        "history_df.plot(y=['loss','accuracy'], subplots=True);"
      ],
      "metadata": {
        "colab": {
          "base_uri": "https://localhost:8080/",
          "height": 430
        },
        "id": "Bb1KuPkLb0LO",
        "outputId": "b8f6fb14-8b78-481a-dd98-55363ccb77f7"
      },
      "execution_count": 44,
      "outputs": [
        {
          "output_type": "display_data",
          "data": {
            "text/plain": [
              "<Figure size 640x480 with 2 Axes>"
            ],
            "image/png": "[encoded data removed]"
          },
          "metadata": {}
        }
      ]
    },
    {
      "cell_type": "markdown",
      "source": [
        "## Text Generation 🧞"
      ],
      "metadata": {
        "id": "EEAEKFqBdAak"
      }
    },
    {
      "cell_type": "code",
      "source": [
        "char_to_id.get_vocabulary()[:5]"
      ],
      "metadata": {
        "colab": {
          "base_uri": "https://localhost:8080/"
        },
        "id": "l6Dvr8WPd5hM",
        "outputId": "04cdd3e3-3e61-4cea-d4b2-0b925f52ea86"
      },
      "execution_count": 49,
      "outputs": [
        {
          "output_type": "execute_result",
          "data": {
            "text/plain": [
              "['[UNK]', ',', 'p', 'b', 'Y']"
            ]
          },
          "metadata": {},
          "execution_count": 49
        }
      ]
    },
    {
      "cell_type": "code",
      "source": [
        "class TextGen(tf.keras.Model):\n",
        "  def __init__(self, char_to_id, id_to_char, model, temperature=1.0):\n",
        "    super().__init__(self,)\n",
        "    self.char_to_id = char_to_id \n",
        "    self.id_to_char = id_to_char\n",
        "    self.model = model\n",
        "    self.temperature = temperature\n",
        "  \n",
        "   # Create a mask to prevent \"[UNK]\" from being generated.\n",
        "    skip_ids = char_to_id(['[UNK]'])[:,None]\n",
        "    mask = tf.SparseTensor(indices=skip_ids, values=[-np.inf]*len(skip_ids), dense_shape=(char_to_id.vocabulary_size(),))\n",
        "    self.predicition_mask = tf.sparse.to_dense(mask)\n",
        "  \n",
        "  @tf.function\n",
        "  def predict_next(self, inputs, state=None):\n",
        "     chars = tf.strings.unicode_split(input=inputs, input_encoding='UTF-8')\n",
        "     #  convert ragged tensor to tensor\n",
        "     ids = self.char_to_id(chars).to_tensor()\n",
        "\n",
        "     # [batch, seq] --> [batch, seq, vocab-size]\n",
        "     predictions, rnn_state = self.model(inputs=ids, state=state, return_state=True)\n",
        "\n",
        "     #  take the last sequence\n",
        "     y_pred = predictions[:,-1,:]\n",
        "     #  randomness\n",
        "     y_pred = y_pred/self.temperature\n",
        "     #  add the mask to remove [UNK] token \n",
        "     y_pred = y_pred + self.predicition_mask\n",
        "\n",
        "     #  SAMPLE\n",
        "     sample = tf.random.categorical(logits=y_pred, num_samples=1)\n",
        "     sample = tf.squeeze(sample, axis=-1)\n",
        "    #  convert from tokens to chars\n",
        "     y_pred_chars = self.id_to_char(sample)\n",
        "     return y_pred_chars, rnn_state\n"
      ],
      "metadata": {
        "id": "9yTm_cGfcJ7W"
      },
      "execution_count": 205,
      "outputs": []
    },
    {
      "cell_type": "code",
      "source": [
        "text_generator = TextGen(char_to_id=char_to_id, id_to_char=id_to_char, model=model, temperature=1.0)"
      ],
      "metadata": {
        "id": "mTylGG9od1VT"
      },
      "execution_count": 206,
      "outputs": []
    },
    {
      "cell_type": "code",
      "source": [
        "# lets check this out \n",
        "next_char, rnn_state = text_generator.predict_next(inputs=tf.constant(['ROMEO:']))"
      ],
      "metadata": {
        "id": "7p4rb_3hltja"
      },
      "execution_count": 207,
      "outputs": []
    },
    {
      "cell_type": "markdown",
      "source": [
        "### Sample Text Generation"
      ],
      "metadata": {
        "id": "PET2ihDdrPsF"
      }
    },
    {
      "cell_type": "code",
      "source": [
        "next_char = tf.constant(['ROMEO:'])\n",
        "results = [next_char]\n",
        "state=None\n",
        "for i in range(1000):\n",
        "  next_char, state = text_generator.predict_next(next_char, state)\n",
        "  results.append(next_char)\n",
        "  "
      ],
      "metadata": {
        "id": "X9uh_G4dgTy0"
      },
      "execution_count": 221,
      "outputs": []
    },
    {
      "cell_type": "code",
      "source": [
        "final_result = tf.strings.reduce_join(results, axis=0)"
      ],
      "metadata": {
        "id": "i-b91FugzXzq"
      },
      "execution_count": 222,
      "outputs": []
    },
    {
      "cell_type": "code",
      "source": [
        "print(final_result[0].numpy().decode(encoding='UTF-8'))"
      ],
      "metadata": {
        "colab": {
          "base_uri": "https://localhost:8080/"
        },
        "id": "ALFCYT250IFK",
        "outputId": "740b95f5-c2a3-48c6-a411-5464458feb8a"
      },
      "execution_count": 223,
      "outputs": [
        {
          "output_type": "stream",
          "name": "stdout",
          "text": [
            "ROMEO:\n",
            "My grief full-satisfy!\n",
            "\n",
            "Second Murderer:\n",
            "A motter, this is most patrice, I come to Scanla'\n",
            "Lorge? where ropes this bust but kneel to his injury!\n",
            "It will I. Viel'd cries 'tis there puts your\n",
            "bashappeated and fix'd, yea, now, by your disposition,\n",
            "Your officers abdures makes\n",
            "I promise and in the gods, and did thou named.\n",
            "\n",
            "ROMEO:\n",
            "I'll paint your loaghs, hillmis-worthy Burnen\n",
            "Bick aufther that she must call home some golden hit;\n",
            "Bage for the cerate, the world will ertar\n",
            "me.\n",
            "\n",
            "RIVENS:\n",
            "She did dismal day that gives\n",
            "He torture, the sauty day doth know It whose flist\n",
            "well-fellow! therefore I'll father from the dog, and I'll lay enough too the woo'd as y.\n",
            "Rame come, yet begun tild not out\n",
            "The ordany us in Visit of a doy,\n",
            "The rest will have you be these well-steal'd displeased lives.\n",
            "Did merrier thing you are old enough to be most hour.\n",
            "\n",
            "ANGELO:\n",
            "What, do you make\n",
            "a music knave that she must weep and all where\n",
            "I have wants thy shoulder would say theretoness,\n",
            "The best may be spokeness? Come, we'll \n"
          ]
        }
      ]
    },
    {
      "cell_type": "code",
      "source": [],
      "metadata": {
        "id": "41Jmrj8D3b9O"
      },
      "execution_count": null,
      "outputs": []
    }
  ]
}