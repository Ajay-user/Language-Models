{
 "cells": [
  {
   "attachments": {},
   "cell_type": "markdown",
   "metadata": {},
   "source": [
    "## Document Loaders\n",
    "\n",
    "#### Combining language models with your own text data is a powerful way to differentiate them. The first step in doing this is to load the data in documents (i.e., some pieces of text). This module is aimed at making this easy.\n",
    "\n",
    "### This covers how to load pdfs into a document format that we can use downstream."
   ]
  },
  {
   "cell_type": "code",
   "execution_count": 1,
   "metadata": {},
   "outputs": [],
   "source": [
    "# ! pip install pypdf"
   ]
  },
  {
   "cell_type": "code",
   "execution_count": 2,
   "metadata": {},
   "outputs": [],
   "source": [
    "from langchain.document_loaders import PyPDFLoader"
   ]
  },
  {
   "cell_type": "code",
   "execution_count": 3,
   "metadata": {},
   "outputs": [],
   "source": [
    "loader = PyPDFLoader(file_path='./Rhetorical triangle.pdf')"
   ]
  },
  {
   "cell_type": "code",
   "execution_count": 4,
   "metadata": {},
   "outputs": [],
   "source": [
    "pages = loader.load_and_split()"
   ]
  },
  {
   "cell_type": "code",
   "execution_count": 8,
   "metadata": {},
   "outputs": [
    {
     "name": "stdout",
     "output_type": "stream",
     "text": [
      "School of Liberal Arts \n",
      " \n",
      "University Writing Center \n",
      "“Because writers need readers” \n",
      "Cavanaugh Hall 427 University Library 2125 \n",
      "(317)274-2049   (317)278-8171 \n",
      "www.iupui.edu/~uwc \n",
      " \n",
      "The Rhetorical Triangle:  \n",
      "Understanding and Using Logos, Ethos, and Pathos \n",
      "Logos, ethos, and pathos are important components of all writing, whether we are aware of them or not. By learning to \n",
      "recognize logos, ethos, and pathos in the writing of others and in our own, we can create texts that appeal to readers on \n",
      "many different levels. This handout provid es a brief overview of what logos, et hos, and pathos ar e and offers guiding \n",
      "questions for recognizing and incorporating these appeals. \n",
      " \n",
      "Aristotle taught that a speaker’s ability to pers uade an audience is based on how well the speaker \n",
      "appeals to that audience in three different areas: l ogos, ethos, and pathos.  C onsidered together, these \n",
      "appeals form what later rhetoricians ha ve called the rhetorical triangle.    \n",
      " Logos  appeals to reason. Logos can also  be thought of as the text of the argument, as well as how well \n",
      "a writer has argued his/her point.  Ethos appeals to the writer’s character. Ethos can also be thought of as the ro le of the writer in the \n",
      "argument, and how credible his/her argument is.  Pathos appeals to the emotions and the sympathetic im agination, as well as to beliefs and values. \n",
      "Pathos can also be thought of as the role of the audience in the argument. \n",
      "                                                                        LOGOS                                                              (Reason/Text)                                                                 \n",
      "        ETHOS                                        PATHOS \n",
      "                           (Credibility/Writer)                                      (Values, Beliefs/Audience)        \n",
      " The rhetorical triangle is typically  represented by an equilateral tria ngle, suggesting that logos, ethos, \n",
      "and pathos should be balanced within a text. Howeve r, which aspect(s) of th e rhetorical triangle you \n",
      "favor in your writing depends on both the audience and the purpose of that writing. Yet, if you are in \n",
      "doubt, seek a balance among all three elements.\n"
     ]
    }
   ],
   "source": [
    "print(pages[0].page_content)"
   ]
  },
  {
   "attachments": {},
   "cell_type": "markdown",
   "metadata": {},
   "source": [
    "## Now Lets use a language model for question anwering"
   ]
  },
  {
   "cell_type": "code",
   "execution_count": 15,
   "metadata": {},
   "outputs": [],
   "source": [
    "from transformers import pipeline\n",
    "\n",
    "# https://huggingface.co/distilbert-base-cased-distilled-squad\n",
    "llm = pipeline(task='question-answering', model='distilbert-base-cased-distilled-squad')"
   ]
  },
  {
   "cell_type": "code",
   "execution_count": 23,
   "metadata": {},
   "outputs": [],
   "source": [
    "question = 'What did Aristotle teach about a speaker’s ability?'\n",
    "\n",
    "context = pages[0].page_content"
   ]
  },
  {
   "cell_type": "code",
   "execution_count": 24,
   "metadata": {},
   "outputs": [],
   "source": [
    "response = llm(question=question, context=context)"
   ]
  },
  {
   "cell_type": "code",
   "execution_count": 25,
   "metadata": {},
   "outputs": [
    {
     "name": "stdout",
     "output_type": "stream",
     "text": [
      "how well the speaker \n",
      "appeals to that audience in three different areas\n"
     ]
    }
   ],
   "source": [
    "print(response['answer'])"
   ]
  },
  {
   "attachments": {},
   "cell_type": "markdown",
   "metadata": {},
   "source": [
    "### Lets ask another question about teachings of Aristotle"
   ]
  },
  {
   "cell_type": "code",
   "execution_count": 26,
   "metadata": {},
   "outputs": [],
   "source": [
    "question = 'What are the teachings of Aristotle ?'\n",
    "\n",
    "context = pages[0].page_content\n",
    "\n",
    "response = llm(question=question, context=context)"
   ]
  },
  {
   "cell_type": "code",
   "execution_count": 27,
   "metadata": {},
   "outputs": [
    {
     "data": {
      "text/plain": [
       "{'score': 0.1050831750035286,\n",
       " 'start': 1349,\n",
       " 'end': 1367,\n",
       " 'answer': 'beliefs and values'}"
      ]
     },
     "execution_count": 27,
     "metadata": {},
     "output_type": "execute_result"
    }
   ],
   "source": [
    "response"
   ]
  },
  {
   "attachments": {},
   "cell_type": "markdown",
   "metadata": {},
   "source": [
    "### What is Ethos ?"
   ]
  },
  {
   "cell_type": "code",
   "execution_count": 28,
   "metadata": {},
   "outputs": [],
   "source": [
    "question = 'What is Ethos ?'\n",
    "\n",
    "context = pages[0].page_content\n",
    "\n",
    "response = llm(question=question, context=context)"
   ]
  },
  {
   "cell_type": "code",
   "execution_count": 29,
   "metadata": {},
   "outputs": [
    {
     "data": {
      "text/plain": [
       "{'score': 0.21466182172298431,\n",
       " 'start': 1122,\n",
       " 'end': 1155,\n",
       " 'answer': 'appeals to the writer’s character'}"
      ]
     },
     "execution_count": 29,
     "metadata": {},
     "output_type": "execute_result"
    }
   ],
   "source": [
    "response"
   ]
  },
  {
   "attachments": {},
   "cell_type": "markdown",
   "metadata": {},
   "source": [
    "### What is Pathos ?\n"
   ]
  },
  {
   "cell_type": "code",
   "execution_count": 30,
   "metadata": {},
   "outputs": [],
   "source": [
    "question = 'What is Pathos ?'\n",
    "\n",
    "context = pages[0].page_content\n",
    "\n",
    "response = llm(question=question, context=context)"
   ]
  },
  {
   "cell_type": "code",
   "execution_count": 31,
   "metadata": {},
   "outputs": [
    {
     "data": {
      "text/plain": [
       "{'score': 0.42400503158569336,\n",
       " 'start': 1403,\n",
       " 'end': 1443,\n",
       " 'answer': 'the role of the audience in the argument'}"
      ]
     },
     "execution_count": 31,
     "metadata": {},
     "output_type": "execute_result"
    }
   ],
   "source": [
    "response"
   ]
  },
  {
   "attachments": {},
   "cell_type": "markdown",
   "metadata": {},
   "source": [
    "### What is Logos?"
   ]
  },
  {
   "cell_type": "code",
   "execution_count": 32,
   "metadata": {},
   "outputs": [],
   "source": [
    "question = 'What is Logos?'\n",
    "\n",
    "context = pages[0].page_content\n",
    "\n",
    "response = llm(question=question, context=context)"
   ]
  },
  {
   "cell_type": "code",
   "execution_count": 33,
   "metadata": {},
   "outputs": [
    {
     "data": {
      "text/plain": [
       "{'score': 0.36362287402153015,\n",
       " 'start': 1033,\n",
       " 'end': 1057,\n",
       " 'answer': 'the text of the argument'}"
      ]
     },
     "execution_count": 33,
     "metadata": {},
     "output_type": "execute_result"
    }
   ],
   "source": [
    "response"
   ]
  },
  {
   "attachments": {},
   "cell_type": "markdown",
   "metadata": {},
   "source": [
    "### What are Ethos, Logos and Pathos?"
   ]
  },
  {
   "cell_type": "code",
   "execution_count": 34,
   "metadata": {},
   "outputs": [
    {
     "data": {
      "text/plain": [
       "{'score': 0.8328918814659119,\n",
       " 'start': 288,\n",
       " 'end': 323,\n",
       " 'answer': 'important components of all writing'}"
      ]
     },
     "execution_count": 34,
     "metadata": {},
     "output_type": "execute_result"
    }
   ],
   "source": [
    "question = 'What are Ethos, Logos and Pathos?'\n",
    "\n",
    "context = pages[0].page_content\n",
    "\n",
    "response = llm(question=question, context=context)\n",
    "\n",
    "response"
   ]
  },
  {
   "cell_type": "code",
   "execution_count": null,
   "metadata": {},
   "outputs": [],
   "source": []
  }
 ],
 "metadata": {
  "kernelspec": {
   "display_name": "llm-env",
   "language": "python",
   "name": "python3"
  },
  "language_info": {
   "codemirror_mode": {
    "name": "ipython",
    "version": 3
   },
   "file_extension": ".py",
   "mimetype": "text/x-python",
   "name": "python",
   "nbconvert_exporter": "python",
   "pygments_lexer": "ipython3",
   "version": "3.10.11"
  },
  "orig_nbformat": 4
 },
 "nbformat": 4,
 "nbformat_minor": 2
}
